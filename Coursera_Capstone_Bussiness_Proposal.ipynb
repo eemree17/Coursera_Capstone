{
 "cells": [
  {
   "cell_type": "markdown",
   "metadata": {},
   "source": [
    "# 1. Bussiness Proposal"
   ]
  },
  {
   "cell_type": "markdown",
   "metadata": {},
   "source": [
    "## 1.1. Background"
   ]
  },
  {
   "cell_type": "markdown",
   "metadata": {},
   "source": [
    "In the current situation, many people are losing their jobs because some companies are going bankrupt\n",
    "due to the corona situation. These people then have to find a new job as quickly as possible. Especially\n",
    "when they have a family to support. With the new job, it can quickly happen that you have to move to\n",
    "a new country. Moving to a new city is not easy because you want a similar or better infrastructure\n",
    "and quality of life. In addition, the new place of residence should not be too far away from the new\n",
    "job. Researching where you want to move so that these criteria are met is often tedious and timeconsuming. A comparison between the districts of the new area and the hometown would be very\n",
    "helpful to find out which are similar and can therefore be prioritized."
   ]
  },
  {
   "cell_type": "markdown",
   "metadata": {},
   "source": [
    "## 1.2. Description of the Problem"
   ]
  },
  {
   "cell_type": "markdown",
   "metadata": {},
   "source": [
    "To be able to plan the move with all the factors, there is a lot of information that must be taken into\n",
    "account. It would be helpful to compare different cities to get an overview of their advantages and\n",
    "disadvantages.\n",
    "Specifically, the problem is as follows: Mr. Smith is a real estate agent and specializes in supporting\n",
    "clients who want to leave their hometown and move to another unfamiliar area. His clients usually do\n",
    "not want to forego anything of their old environment when moving and therefore commission Mr.\n",
    "Smith to find a similar environment with all the previous advantages. Mr. Smith has expertise in\n",
    "machine learning algorithms and clustering. His new client is Mr. Miller. Mr. Miller is 45 years old, is\n",
    "married and has two children. He is a sole earner and lost his job in New York because his company\n",
    "went bankrupt. Now he has found a new job in Toronto and would like to move there with his family.\n",
    "The similarity of the cities is very important to Mr. Miller and his family. To determine similarity, each\n",
    "neighborhood is described as a numeric vector so clustering is applied, such as DBSCAN and KMeans\n",
    "to group them into different groups."
   ]
  },
  {
   "cell_type": "markdown",
   "metadata": {},
   "source": [
    "## 1.3. Interest"
   ]
  },
  {
   "cell_type": "markdown",
   "metadata": {},
   "source": [
    "The problem of finding a similar neighborhood is not limited only to the problem described above. This\n",
    "can also be applied to a wide range of applications and takes place in a wide variety of real situations.\n",
    "When a company, such as a restaurant, a cinema, or a supermarket, decides to expand somewhere in\n",
    "a new city or country or to open a new branch. It would be advantageous for the company to find a\n",
    "similar neighborhood because there are often interactive effects between the shops. For example, for\n",
    "a cinema it is beneficial to find a neighborhood where people can easily get to the train station, or a\n",
    "large car park can be built, or in the middle of the city centre within walking distance."
   ]
  }
 ],
 "metadata": {
  "kernelspec": {
   "display_name": "Python 3",
   "language": "python",
   "name": "python3"
  },
  "language_info": {
   "codemirror_mode": {
    "name": "ipython",
    "version": 3
   },
   "file_extension": ".py",
   "mimetype": "text/x-python",
   "name": "python",
   "nbconvert_exporter": "python",
   "pygments_lexer": "ipython3",
   "version": "3.8.3"
  }
 },
 "nbformat": 4,
 "nbformat_minor": 4
}
